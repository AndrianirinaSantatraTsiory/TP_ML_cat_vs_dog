{
 "cells": [
  {
   "cell_type": "code",
   "execution_count": 2,
   "id": "e1190a41",
   "metadata": {},
   "outputs": [],
   "source": [
    "import numpy as np\n",
    "import matplotlib.pyplot as plt\n",
    "from sklearn.datasets import make_blobs\n",
    "from sklearn.metrics import accuracy_score"
   ]
  },
  {
   "cell_type": "code",
   "execution_count": 7,
   "id": "fb52551b",
   "metadata": {},
   "outputs": [],
   "source": [
    "#initialisation of the model\n",
    "def initModel(X):\n",
    "    Q = np.random.randn(X.shape[1], 1)\n",
    "    b = np.random.randn(1)\n",
    "    return (Q, b)"
   ]
  },
  {
   "cell_type": "code",
   "execution_count": 8,
   "id": "fb2b97ef",
   "metadata": {},
   "outputs": [],
   "source": [
    "def model(X, W, b):\n",
    "    Z = X.dot(W) + b\n",
    "    A = 1 / (1 + np.exp(-Z))\n",
    "    return A"
   ]
  },
  {
   "cell_type": "code",
   "execution_count": 9,
   "id": "b850982e",
   "metadata": {},
   "outputs": [],
   "source": [
    "#fonction cout\n",
    "def log_loss (A, y):\n",
    "    return 1 / len(y) * np.sum(-y * np.log(A) - (1 - y) * np.log(1 - A))"
   ]
  },
  {
   "cell_type": "code",
   "execution_count": 11,
   "id": "581d2b79",
   "metadata": {},
   "outputs": [],
   "source": [
    "#derivée\n",
    "def gradients(A, X, y):\n",
    "    dQ = 1 / len(y) * np.dot(X.T, A - y)\n",
    "    db = 1 / len(y) * np.sum(A - y)\n",
    "    return (dQ, db)"
   ]
  },
  {
   "cell_type": "code",
   "execution_count": 13,
   "id": "0b368d96",
   "metadata": {},
   "outputs": [],
   "source": [
    "#Mise à jours du modèle\n",
    "def update(dQ, db, Q, b, learning_rate):\n",
    "    Q = Q - learning_rate * Q\n",
    "    b = b - learning_rate * db\n",
    "    return (Q, b)"
   ]
  },
  {
   "cell_type": "code",
   "execution_count": 1,
   "id": "f5b171b3",
   "metadata": {},
   "outputs": [],
   "source": [
    "#Prédiction\n",
    "def predict(X, Q, b):\n",
    "    A = model(X, Q, b)\n",
    "    return A >= 0.5"
   ]
  },
  {
   "cell_type": "code",
   "execution_count": null,
   "id": "1ab44075",
   "metadata": {},
   "outputs": [],
   "source": [
    "def train(X_train, y_train, X_test, y_test, learning_rate = 0.1, n_iter = 100):\n",
    "    # initialisation du modèle\n",
    "    Q, b = initialisation(X_train)\n",
    "\n",
    "    costs = []\n",
    "\n",
    "    for i in tqdm(range(n_iter)):\n",
    "        A = model(X_train, W, b)\n",
    "        costs.append(log_loss(A, y_train))\n",
    "        dQ,db=gradients(A, X_train, y_train)\n",
    "        Q,b=update(dQ, db, Q, b, learning_rate)\n",
    "    plt.plot(costs)\n",
    "    plt.show()\n",
    "    return (Q, b)"
   ]
  }
 ],
 "metadata": {
  "kernelspec": {
   "display_name": "Python 3 (ipykernel)",
   "language": "python",
   "name": "python3"
  },
  "language_info": {
   "codemirror_mode": {
    "name": "ipython",
    "version": 3
   },
   "file_extension": ".py",
   "mimetype": "text/x-python",
   "name": "python",
   "nbconvert_exporter": "python",
   "pygments_lexer": "ipython3",
   "version": "3.11.5"
  }
 },
 "nbformat": 4,
 "nbformat_minor": 5
}
